{
 "cells": [
  {
   "cell_type": "code",
   "execution_count": 6,
   "metadata": {},
   "outputs": [],
   "source": [
    "import tweepy\n",
    "import json\n",
    "\n",
    "consumer_key = 'Z0SBNRfeu2ILIGPkh92XYOjlG'\n",
    "consumer_secret = 'eutGcIHzvi9KuFTnBDs4k6NsmoMQRfBYtmXPjm5IvW64Ziqyu1'\n",
    "access_token = '145576185-KgDQBGa7dnawsSFH2BbQvC0wjUnKmHwQhSOFsUPm'\n",
    "access_secret = 'Eu58gEjGmQAmMv0A6tDpfRs8gpVDarhr1lTurmaKgyq5H'\n",
    "\n",
    "# Creating the authentication object\n",
    "auth = tweepy.OAuthHandler(consumer_key, consumer_secret)\n",
    "# Setting your access token and secret\n",
    "auth.set_access_token(access_token, access_secret)\n",
    "\n",
    "# Creating the API object while passing in auth information\n",
    "api = tweepy.API(auth)"
   ]
  },
  {
   "cell_type": "code",
   "execution_count": 9,
   "metadata": {},
   "outputs": [],
   "source": [
    "# get user\n",
    "screen_name = 'SWEAT16Official'\n",
    "user = api.get_user(screen_name)"
   ]
  },
  {
   "cell_type": "code",
   "execution_count": 10,
   "metadata": {},
   "outputs": [],
   "source": [
    "# can't call in one time because rate limit exceed\n",
    "followers = results = api.followers_ids(screen_name=screen_name)"
   ]
  },
  {
   "cell_type": "code",
   "execution_count": null,
   "metadata": {},
   "outputs": [],
   "source": []
  }
 ],
 "metadata": {
  "kernelspec": {
   "display_name": "Python 3",
   "language": "python",
   "name": "python3"
  },
  "language_info": {
   "codemirror_mode": {
    "name": "ipython",
    "version": 3
   },
   "file_extension": ".py",
   "mimetype": "text/x-python",
   "name": "python",
   "nbconvert_exporter": "python",
   "pygments_lexer": "ipython3",
   "version": "3.6.4"
  }
 },
 "nbformat": 4,
 "nbformat_minor": 2
}
