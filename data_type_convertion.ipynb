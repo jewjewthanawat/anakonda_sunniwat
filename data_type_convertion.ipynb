{
 "cells": [
  {
   "cell_type": "code",
   "execution_count": null,
   "metadata": {
    "collapsed": true
   },
   "outputs": [],
   "source": [
    "def json_to_dict(json_file) :\n",
    "    import json\n",
    "    file = open(json_file)\n",
    "    dict_list = []\n",
    "    for line in file :\n",
    "        dict_list.append(json.loads(line))\n",
    "    file.close()\n",
    "    if len(dict_list) == 1 :\n",
    "        return dict_list[0]\n",
    "    return dict_list"
   ]
  },
  {
   "cell_type": "code",
   "execution_count": null,
   "metadata": {
    "collapsed": true
   },
   "outputs": [],
   "source": [
    "def dict_to_json(file_name,dict_list) :\n",
    "    import json\n",
    "    file = open(file_name,'w')\n",
    "    if isinstance(dict_list, list) :\n",
    "        for data in dict_list :\n",
    "            text = json.dumps(data) + '\\n'\n",
    "            file.write(text)\n",
    "    elif isinstance(dict_list, dict) :\n",
    "        text = json.dumps(dict_list)\n",
    "        file.write(text)\n",
    "    file.close()"
   ]
  },
  {
   "cell_type": "code",
   "execution_count": null,
   "metadata": {
    "collapsed": true
   },
   "outputs": [],
   "source": [
    "def dict_to_csv(file_name,dict_list) :\n",
    "    import csv\n",
    "    with open(file_name, 'w', newline='') as csvfile:\n",
    "        if isinstance(dict_list, list) :\n",
    "            key_set = set(dict_list[0])\n",
    "            for data in dict_list :\n",
    "                key_set = key_set.union(data)\n",
    "            fieldnames = list(sorted(key_set))\n",
    "            writer = csv.DictWriter(csvfile, fieldnames=fieldnames)\n",
    "            writer.writeheader()\n",
    "            for data in dict_list :\n",
    "                writer.writerow(data)\n",
    "        elif isinstance(dict_list, dict) :\n",
    "            fieldnames = list(dict_list.keys())\n",
    "            writer = csv.DictWriter(csvfile, fieldnames=fieldnames)\n",
    "            writer.writeheader()\n",
    "            writer.writerow(dict_list)"
   ]
  },
  {
   "cell_type": "code",
   "execution_count": null,
   "metadata": {
    "collapsed": true
   },
   "outputs": [],
   "source": [
    "def csv_to_dict(file_name) :\n",
    "    import csv\n",
    "    with open(file_name, newline='') as csvfile:\n",
    "        reader = csv.DictReader(csvfile)\n",
    "        dict_list = []\n",
    "        for row in reader:\n",
    "             dict_list.append(dict(row))\n",
    "        if len(dict_list) == 1 :\n",
    "            return dict_list[0]\n",
    "        return dict_list"
   ]
  }
 ],
 "metadata": {
  "kernelspec": {
   "display_name": "Python 3",
   "language": "python",
   "name": "python3"
  },
  "language_info": {
   "codemirror_mode": {
    "name": "ipython",
    "version": 3
   },
   "file_extension": ".py",
   "mimetype": "text/x-python",
   "name": "python",
   "nbconvert_exporter": "python",
   "pygments_lexer": "ipython3",
   "version": "3.6.3"
  }
 },
 "nbformat": 4,
 "nbformat_minor": 2
}
