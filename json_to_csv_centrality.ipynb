{
 "cells": [
  {
   "cell_type": "code",
   "execution_count": 1,
   "metadata": {
    "collapsed": true
   },
   "outputs": [],
   "source": [
    "import csv"
   ]
  },
  {
   "cell_type": "code",
   "execution_count": 6,
   "metadata": {},
   "outputs": [],
   "source": [
    "#for test\n",
    "with open('test.csv', 'w', newline='') as csvfile:\n",
    "    fieldnames = ['f1', 'f2']\n",
    "    writer = csv.DictWriter(csvfile, fieldnames=fieldnames)\n",
    "\n",
    "    writer.writeheader()\n",
    "    writer.writerow({'f1': 'a', 'f2': '1'})\n",
    "    writer.writerow({'f1': 'b', 'f2': '2'})\n",
    "    writer.writerow({'f1': 'c', 'f2': '3'})"
   ]
  },
  {
   "cell_type": "code",
   "execution_count": 4,
   "metadata": {},
   "outputs": [
    {
     "name": "stdout",
     "output_type": "stream",
     "text": [
      "{'id': 882412027074850816, 'id_str': '882412027074850816', 'name': 'Pada (◞ꈍ∇ꈍ)', 'screen_name': 'Pada_Sweat16', 'location': 'ประเทศไทย', 'profile_location': None, 'description': 'ʕ •ᴥ• ʔ คุณหมี sweat16 !', 'url': None, 'entities': {'description': {'urls': []}}, 'protected': False, 'followers_count': 882, 'friends_count': 15, 'listed_count': 7, 'created_at': 'Wed Jul 05 01:33:16 +0000 2017', 'favourites_count': 349, 'utc_offset': None, 'time_zone': None, 'geo_enabled': False, 'verified': False, 'statuses_count': 131, 'lang': 'th', 'status': {'created_at': 'Tue Mar 20 16:18:57 +0000 2018', 'id': 976130986126618629, 'id_str': '976130986126618629', 'text': '@memesweat16 5555:3', 'truncated': False, 'entities': {'hashtags': [], 'symbols': [], 'user_mentions': [{'screen_name': 'memesweat16', 'name': 'ห้องผลิตมีมส่วนตัวของมิวๆ และ Sweat16!', 'id': 971210338979860481, 'id_str': '971210338979860481', 'indices': [0, 12]}], 'urls': []}, 'source': '<a href=\"http://twitter.com/download/android\" rel=\"nofollow\">Twitter for Android</a>', 'in_reply_to_status_id': 975936694095499265, 'in_reply_to_status_id_str': '975936694095499265', 'in_reply_to_user_id': 971210338979860481, 'in_reply_to_user_id_str': '971210338979860481', 'in_reply_to_screen_name': 'memesweat16', 'geo': None, 'coordinates': None, 'place': None, 'contributors': None, 'is_quote_status': False, 'retweet_count': 0, 'favorite_count': 4, 'favorited': False, 'retweeted': False, 'lang': 'und'}, 'contributors_enabled': False, 'is_translator': False, 'is_translation_enabled': False, 'profile_background_color': 'F5F8FA', 'profile_background_image_url': None, 'profile_background_image_url_https': None, 'profile_background_tile': False, 'profile_image_url': 'http://pbs.twimg.com/profile_images/969667838418956289/VUXCYnez_normal.jpg', 'profile_image_url_https': 'https://pbs.twimg.com/profile_images/969667838418956289/VUXCYnez_normal.jpg', 'profile_banner_url': 'https://pbs.twimg.com/profile_banners/882412027074850816/1516640202', 'profile_link_color': '1DA1F2', 'profile_sidebar_border_color': 'C0DEED', 'profile_sidebar_fill_color': 'DDEEF6', 'profile_text_color': '333333', 'profile_use_background_image': True, 'has_extended_profile': False, 'default_profile': True, 'default_profile_image': False, 'following': False, 'follow_request_sent': False, 'notifications': False, 'translator_type': 'none'}\n"
     ]
    }
   ],
   "source": [
    "import json\n",
    "file_data = open('sweat16_users.json')\n",
    "json_list = []\n",
    "for line in file_data :\n",
    "    json_list.append(json.loads(line))\n",
    "print(json_list[0])"
   ]
  },
  {
   "cell_type": "code",
   "execution_count": 7,
   "metadata": {},
   "outputs": [],
   "source": [
    "#for reference\n",
    "with open('centrality1.csv', 'w', newline='') as csvfile:\n",
    "    fieldnames = ['name', 'degree in','degree in/degree out','favourite']\n",
    "    writer = csv.DictWriter(csvfile, fieldnames=fieldnames)\n",
    "    writer.writeheader()\n",
    "        \n",
    "    degree_in_dict = {}\n",
    "    degree_in_per_out_dict = {}\n",
    "    fav_dict = {}\n",
    "    dict_for_write = {}\n",
    "    for member in json_list :\n",
    "        #for find max\n",
    "        degree_in_dict[member['screen_name']] = member['followers_count']\n",
    "        degree_in_per_out_dict[member['screen_name']] = member['followers_count']/member['friends_count']\n",
    "        fav_dict[member['screen_name']] = member['favourites_count']\n",
    "\n",
    "        dict_for_write['name'] = member['screen_name']\n",
    "        dict_for_write['degree in'] = str(member['followers_count'])\n",
    "        dict_for_write['degree in/degree out'] = str(member['followers_count']/member['friends_count'])\n",
    "        dict_for_write['favourite'] = str(member['favourites_count'])\n",
    "        writer.writerow(dict_for_write)\n",
    "    "
   ]
  },
  {
   "cell_type": "code",
   "execution_count": 12,
   "metadata": {},
   "outputs": [],
   "source": [
    "def find_max(f) :\n",
    "    max_value = 0\n",
    "    max_i = []\n",
    "    for i in f :\n",
    "        if f[i] > max_value :\n",
    "            max_i = [i]\n",
    "            max_value = f[i]\n",
    "        elif f[i] == max_value :\n",
    "            max_i.append(i)\n",
    "    return max_i , max_value"
   ]
  },
  {
   "cell_type": "code",
   "execution_count": 13,
   "metadata": {},
   "outputs": [
    {
     "name": "stdout",
     "output_type": "stream",
     "text": [
      "Degree in centrality is ['MahnmookSweat16'] with degree = 2669\n",
      "\n",
      "Degree in/out centrality is ['MahnmookSweat16'] with value = 68.43589743589743\n",
      "\n",
      "Favourite centrality is ['Ae_Sweat16'] with fav = 9121\n",
      "\n"
     ]
    }
   ],
   "source": [
    "centrality , value = find_max(degree_in_dict)\n",
    "print('Degree in centrality is ', end = '')\n",
    "print(centrality, end = ' ')\n",
    "print('with degree = ', end = '')\n",
    "print(value)\n",
    "print()\n",
    "\n",
    "centrality , value = find_max(degree_in_per_out_dict)\n",
    "print('Degree in/out centrality is ', end = '')\n",
    "print(centrality, end = ' ')\n",
    "print('with value = ', end = '')\n",
    "print(value)\n",
    "print()\n",
    "\n",
    "centrality , value = find_max(fav_dict)\n",
    "print('Favourite centrality is ', end = '')\n",
    "print(centrality, end = ' ')\n",
    "print('with fav = ', end = '')\n",
    "print(value)\n",
    "print()"
   ]
  },
  {
   "cell_type": "code",
   "execution_count": null,
   "metadata": {
    "collapsed": true
   },
   "outputs": [],
   "source": []
  }
 ],
 "metadata": {
  "kernelspec": {
   "display_name": "Python 3",
   "language": "python",
   "name": "python3"
  },
  "language_info": {
   "codemirror_mode": {
    "name": "ipython",
    "version": 3
   },
   "file_extension": ".py",
   "mimetype": "text/x-python",
   "name": "python",
   "nbconvert_exporter": "python",
   "pygments_lexer": "ipython3",
   "version": "3.6.3"
  }
 },
 "nbformat": 4,
 "nbformat_minor": 2
}
