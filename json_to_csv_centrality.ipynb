{
 "cells": [
  {
   "cell_type": "code",
   "execution_count": 37,
   "metadata": {
    "collapsed": true
   },
   "outputs": [],
   "source": [
    "def json_to_dict(json_file) :\n",
    "    import json\n",
    "    file = open(json_file,encoding=\"utf-8\",errors=\"surrogateescape\")\n",
    "    dict_list = []\n",
    "    for line in file :\n",
    "        dict_list.append(json.loads(line))\n",
    "    file.close()\n",
    "    if len(dict_list) == 1 :\n",
    "        return dict_list[0]\n",
    "    return dict_list"
   ]
  },
  {
   "cell_type": "code",
   "execution_count": 38,
   "metadata": {},
   "outputs": [
    {
     "name": "stdout",
     "output_type": "stream",
     "text": [
      "{'id': 882412027074850816, 'id_str': '882412027074850816', 'name': 'Pada (◞ꈍ∇ꈍ)', 'screen_name': 'Pada_Sweat16', 'location': 'ประเทศไทย', 'profile_location': None, 'description': 'ʕ •ᴥ• ʔ คุณหมี sweat16 !', 'url': None, 'entities': {'description': {'urls': []}}, 'protected': False, 'followers_count': 1066, 'friends_count': 15, 'listed_count': 8, 'created_at': 'Wed Jul 05 01:33:16 +0000 2017', 'favourites_count': 437, 'utc_offset': None, 'time_zone': None, 'geo_enabled': False, 'verified': False, 'statuses_count': 137, 'lang': 'th', 'status': {'created_at': 'Tue Apr 17 13:50:26 +0000 2018', 'id': 986240470186508289, 'id_str': '986240470186508289', 'text': '@BM61454 :)', 'truncated': False, 'entities': {'hashtags': [], 'symbols': [], 'user_mentions': [{'screen_name': 'BM61454', 'name': 'CloneB002', 'id': 977163789412876293, 'id_str': '977163789412876293', 'indices': [0, 8]}], 'urls': []}, 'source': '<a href=\"http://twitter.com/download/android\" rel=\"nofollow\">Twitter for Android</a>', 'in_reply_to_status_id': 986170223840526336, 'in_reply_to_status_id_str': '986170223840526336', 'in_reply_to_user_id': 977163789412876293, 'in_reply_to_user_id_str': '977163789412876293', 'in_reply_to_screen_name': 'BM61454', 'geo': None, 'coordinates': None, 'place': None, 'contributors': None, 'is_quote_status': False, 'retweet_count': 0, 'favorite_count': 0, 'favorited': False, 'retweeted': False, 'lang': 'und'}, 'contributors_enabled': False, 'is_translator': False, 'is_translation_enabled': False, 'profile_background_color': 'F5F8FA', 'profile_background_image_url': None, 'profile_background_image_url_https': None, 'profile_background_tile': False, 'profile_image_url': 'http://pbs.twimg.com/profile_images/969667838418956289/VUXCYnez_normal.jpg', 'profile_image_url_https': 'https://pbs.twimg.com/profile_images/969667838418956289/VUXCYnez_normal.jpg', 'profile_banner_url': 'https://pbs.twimg.com/profile_banners/882412027074850816/1516640202', 'profile_link_color': '1DA1F2', 'profile_sidebar_border_color': 'C0DEED', 'profile_sidebar_fill_color': 'DDEEF6', 'profile_text_color': '333333', 'profile_use_background_image': True, 'has_extended_profile': False, 'default_profile': True, 'default_profile_image': False, 'following': False, 'follow_request_sent': False, 'notifications': False, 'translator_type': 'none'}\n"
     ]
    }
   ],
   "source": [
    "json_list = json_to_dict('sweat16_users.json')\n",
    "print(json_list[0])"
   ]
  },
  {
   "cell_type": "code",
   "execution_count": 39,
   "metadata": {},
   "outputs": [],
   "source": [
    "#for find max \n",
    "degree_in_dict = {member['screen_name']: member['followers_count'] for member in json_list}\n",
    "degree_in_per_out_dict = {member['screen_name']: member['followers_count']/member['friends_count'] for member in json_list}\n",
    "fav_dict = {member['screen_name']: member['favourites_count'] for member in json_list}"
   ]
  },
  {
   "cell_type": "code",
   "execution_count": 40,
   "metadata": {
    "collapsed": true
   },
   "outputs": [],
   "source": [
    "def find_max(f, text) :\n",
    "    max_value = 0\n",
    "    max_i = []\n",
    "    for i in f :\n",
    "        if f[i] > max_value :\n",
    "            max_i = [i]\n",
    "            max_value = f[i]\n",
    "        elif f[i] == max_value :\n",
    "            max_i.append(i)\n",
    "    print('Most ' + text + ' is ' + str(max_i) + ' with score ' + str(max_value))"
   ]
  },
  {
   "cell_type": "code",
   "execution_count": 41,
   "metadata": {},
   "outputs": [
    {
     "name": "stdout",
     "output_type": "stream",
     "text": [
      "Most degree in is ['MahnmookSweat16'] with score 3089\n",
      "Most degree in/out is ['MahnmookSweat16'] with score 77.225\n",
      "Most favourite is ['Ae_Sweat16'] with score 10201\n"
     ]
    }
   ],
   "source": [
    "find_max(degree_in_dict, 'degree in')\n",
    "find_max(degree_in_per_out_dict, 'degree in/out')\n",
    "find_max(fav_dict, 'favourite')"
   ]
  },
  {
   "cell_type": "code",
   "execution_count": 62,
   "metadata": {
    "collapsed": true
   },
   "outputs": [],
   "source": [
    "tweet = json_to_dict('tweet.json')\n",
    "filter_tweet = []\n",
    "filter_tweet_RT = []\n",
    "for t in tweet :\n",
    "    if 'sweat16' in t['text'].lower() and t['text'][0:2] != 'RT' :\n",
    "        filter_tweet.append(t)\n",
    "    if 'sweat16' in t['text'].lower() :\n",
    "        filter_tweet_RT.append(t) "
   ]
  },
  {
   "cell_type": "code",
   "execution_count": 43,
   "metadata": {
    "collapsed": true
   },
   "outputs": [],
   "source": [
    "member_name = ['pada','proud','ant','petch','ae','anny','mahnmook','mint','pim','sonja','music','fame','nink']"
   ]
  },
  {
   "cell_type": "code",
   "execution_count": 44,
   "metadata": {},
   "outputs": [],
   "source": [
    "def print_text(text) :\n",
    "    print(text.encode('utf-8','ignore').decode('utf-8'))"
   ]
  },
  {
   "cell_type": "code",
   "execution_count": 52,
   "metadata": {},
   "outputs": [],
   "source": [
    "mention_dict = {name: 0 for name in member_name}\n",
    "mention_dict_RT = {name: 0 for name in member_name}"
   ]
  },
  {
   "cell_type": "code",
   "execution_count": 63,
   "metadata": {},
   "outputs": [],
   "source": [
    "for t in filter_tweet :\n",
    "    for name in member_name :\n",
    "        if name in t['text'].lower() :\n",
    "            mention_dict[name] += 1\n",
    "            \n",
    "for t in filter_tweet_RT :\n",
    "    for name in member_name :\n",
    "        if name in t['text'].lower() :\n",
    "            mention_dict_RT[name] += 1"
   ]
  },
  {
   "cell_type": "code",
   "execution_count": 64,
   "metadata": {},
   "outputs": [
    {
     "name": "stdout",
     "output_type": "stream",
     "text": [
      "Most mention is ['mahnmook'] with score 167\n",
      "Most mention with retweet is ['mahnmook'] with score 1110\n"
     ]
    }
   ],
   "source": [
    "find_max(mention_dict, 'mention')\n",
    "find_max(mention_dict_RT, 'mention with retweet')"
   ]
  },
  {
   "cell_type": "code",
   "execution_count": 72,
   "metadata": {},
   "outputs": [
    {
     "name": "stdout",
     "output_type": "stream",
     "text": [
      "Most amount is ['Music_Sweat16'] with score 72\n",
      "Most Average of RT is ['Pim_Sweat16'] with score 76.25\n"
     ]
    }
   ],
   "source": [
    "avr_of_rt = json_to_dict('AvrofRT.json')\n",
    "amount_dict = {member['Name']: member['Amount'] for member in avr_of_rt}\n",
    "avr_rt_dict = {member['Name']: member['AverageofRT'] for member in avr_of_rt}\n",
    "find_max(amount_dict, 'amount')\n",
    "find_max(avr_rt_dict, 'Average of RT')"
   ]
  },
  {
   "cell_type": "code",
   "execution_count": 73,
   "metadata": {},
   "outputs": [],
   "source": [
    "#for reference\n",
    "for_write = []\n",
    "for member in json_list :\n",
    "    dict_for_write = {}\n",
    "    dict_for_write['name'] = member['screen_name']\n",
    "    dict_for_write['degree in'] = member['followers_count']\n",
    "    dict_for_write['degree in/degree out'] = member['followers_count']/member['friends_count']\n",
    "    dict_for_write['favourite'] = member['favourites_count']\n",
    "    for name in member_name :\n",
    "        if name in member['screen_name'].lower() :\n",
    "            dict_for_write['mention'] = mention_dict[name]\n",
    "            dict_for_write['mention RT'] = mention_dict_RT[name]\n",
    "    for rt in avr_of_rt :\n",
    "        if rt['Name'] == member['screen_name'] :\n",
    "            dict_for_write['amount'] = rt['Amount']\n",
    "            dict_for_write['averageofRT'] = rt['AverageofRT']\n",
    "    for_write.append(dict_for_write)"
   ]
  },
  {
   "cell_type": "code",
   "execution_count": 49,
   "metadata": {
    "collapsed": true
   },
   "outputs": [],
   "source": [
    "def dict_to_csv(file_name,dict_list) :\n",
    "    import csv\n",
    "    with open(file_name, 'w', newline='') as csvfile:\n",
    "        if isinstance(dict_list, list) :\n",
    "            key_set = set(dict_list[0])\n",
    "            for data in dict_list :\n",
    "                key_set = key_set.union(data)\n",
    "            fieldnames = list(sorted(key_set))\n",
    "            writer = csv.DictWriter(csvfile, fieldnames=fieldnames)\n",
    "            writer.writeheader()\n",
    "            for data in dict_list :\n",
    "                writer.writerow(data)\n",
    "        elif isinstance(dict_list, dict) :\n",
    "            fieldnames = list(dict_list.keys())\n",
    "            writer = csv.DictWriter(csvfile, fieldnames=fieldnames)\n",
    "            writer.writeheader()\n",
    "            writer.writerow(dict_list)"
   ]
  },
  {
   "cell_type": "code",
   "execution_count": 75,
   "metadata": {},
   "outputs": [],
   "source": [
    "dict_to_csv('centrality.csv', for_write)"
   ]
  },
  {
   "cell_type": "code",
   "execution_count": 76,
   "metadata": {
    "scrolled": true
   },
   "outputs": [
    {
     "name": "stdout",
     "output_type": "stream",
     "text": [
      "Most degree in is ['MahnmookSweat16'] with score 3089\n",
      "Most degree in/out is ['MahnmookSweat16'] with score 77.225\n",
      "Most favourite is ['Ae_Sweat16'] with score 10201\n",
      "Most mention is ['mahnmook'] with score 167\n",
      "Most mention with retweet is ['mahnmook'] with score 1110\n",
      "Most amount is ['Music_Sweat16'] with score 72\n",
      "Most Average of RT is ['Pim_Sweat16'] with score 76.25\n"
     ]
    }
   ],
   "source": [
    "find_max(degree_in_dict, 'degree in')\n",
    "find_max(degree_in_per_out_dict, 'degree in/out')\n",
    "find_max(fav_dict, 'favourite')\n",
    "find_max(mention_dict, 'mention')\n",
    "find_max(mention_dict_RT, 'mention with retweet')\n",
    "find_max(amount_dict, 'amount')\n",
    "find_max(avr_rt_dict, 'Average of RT')\n"
   ]
  },
  {
   "cell_type": "code",
   "execution_count": null,
   "metadata": {
    "collapsed": true
   },
   "outputs": [],
   "source": []
  }
 ],
 "metadata": {
  "kernelspec": {
   "display_name": "Python 3",
   "language": "python",
   "name": "python3"
  },
  "language_info": {
   "codemirror_mode": {
    "name": "ipython",
    "version": 3
   },
   "file_extension": ".py",
   "mimetype": "text/x-python",
   "name": "python",
   "nbconvert_exporter": "python",
   "pygments_lexer": "ipython3",
   "version": "3.6.3"
  }
 },
 "nbformat": 4,
 "nbformat_minor": 2
}
